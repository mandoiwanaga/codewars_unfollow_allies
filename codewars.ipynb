{
 "cells": [
  {
   "cell_type": "markdown",
   "metadata": {},
   "source": [
    "# Codewars: Unfollow allies when changing clans"
   ]
  },
  {
   "cell_type": "code",
   "execution_count": null,
   "metadata": {},
   "outputs": [],
   "source": [
    "#if you don't have selenium installed yet, uncomment the code below and run \n",
    "#!pip install selenium"
   ]
  },
  {
   "cell_type": "markdown",
   "metadata": {},
   "source": [
    "**Import Necessary Libraries**"
   ]
  },
  {
   "cell_type": "code",
   "execution_count": null,
   "metadata": {},
   "outputs": [],
   "source": [
    "#import for bot\n",
    "from selenium.webdriver import Firefox\n",
    "\n",
    "#import for signing into account\n",
    "from functions import sign_in\n",
    "\n",
    "#imports for time delays\n",
    "import time\n",
    "import random "
   ]
  },
  {
   "cell_type": "markdown",
   "metadata": {},
   "source": [
    "---"
   ]
  },
  {
   "cell_type": "markdown",
   "metadata": {},
   "source": [
    "**Assign variables for sign-in credentials**"
   ]
  },
  {
   "cell_type": "code",
   "execution_count": null,
   "metadata": {},
   "outputs": [],
   "source": [
    "email_address = 'INSERT EMAIL ADDRESS HERE'\n",
    "password = 'INSERT PASSWORD HERE'"
   ]
  },
  {
   "cell_type": "markdown",
   "metadata": {},
   "source": [
    "---"
   ]
  },
  {
   "cell_type": "markdown",
   "metadata": {},
   "source": [
    "**Create bot using Selenium with Firefox browser.** "
   ]
  },
  {
   "cell_type": "code",
   "execution_count": null,
   "metadata": {},
   "outputs": [],
   "source": [
    "#instantiate bot browser\n",
    "browser = Firefox()\n",
    "\n",
    "#set browser to start at sign-in page\n",
    "url = \"https://www.codewars.com/users/sign_in\"\n",
    "browser.get(url)"
   ]
  },
  {
   "cell_type": "markdown",
   "metadata": {},
   "source": [
    "---"
   ]
  },
  {
   "cell_type": "markdown",
   "metadata": {},
   "source": [
    "**Sign into account**"
   ]
  },
  {
   "cell_type": "code",
   "execution_count": null,
   "metadata": {},
   "outputs": [],
   "source": [
    "sign_in(email_address, password, browser)"
   ]
  },
  {
   "cell_type": "markdown",
   "metadata": {},
   "source": [
    "---"
   ]
  },
  {
   "cell_type": "code",
   "execution_count": null,
   "metadata": {},
   "outputs": [],
   "source": [
    "#save allies' ids in a variable \n",
    "#replace the number 101 with the number of following allies IF you have less than 100 following allies\n",
    "#only 100 allies will display at a time\n",
    "allies = [f'//*[@id=\"allies\"]/div/table/tbody/tr[{i}]/td[2]/a' for i in range(2, 101)]"
   ]
  },
  {
   "cell_type": "code",
   "execution_count": null,
   "metadata": {},
   "outputs": [],
   "source": [
    "#go through each ally id, and save the link for their profile\n",
    "href_list = []\n",
    "for ally in allies:\n",
    "    href_list.append(browser.find_element_by_xpath(ally).get_attribute(\"href\"))"
   ]
  },
  {
   "cell_type": "code",
   "execution_count": null,
   "metadata": {},
   "outputs": [],
   "source": [
    "#go through each profile link and click the unfollow button\n",
    "for link in href_list:\n",
    "    browser.get(link)\n",
    "    #set xpath for unfollow button \n",
    "    xpath_unfollow = '//*[@id=\"toggle_relationship\"]/span'\n",
    "    unfollow = browser.find_element_by_xpath(xpath_unfollow)\n",
    "    unfollow.click()\n",
    "    time.sleep(12 + random.random()*10)\n",
    "    "
   ]
  },
  {
   "cell_type": "code",
   "execution_count": null,
   "metadata": {},
   "outputs": [],
   "source": []
  }
 ],
 "metadata": {
  "kernelspec": {
   "display_name": "learn-env",
   "language": "python",
   "name": "learn-env"
  },
  "language_info": {
   "codemirror_mode": {
    "name": "ipython",
    "version": 3
   },
   "file_extension": ".py",
   "mimetype": "text/x-python",
   "name": "python",
   "nbconvert_exporter": "python",
   "pygments_lexer": "ipython3",
   "version": "3.6.6"
  }
 },
 "nbformat": 4,
 "nbformat_minor": 2
}
